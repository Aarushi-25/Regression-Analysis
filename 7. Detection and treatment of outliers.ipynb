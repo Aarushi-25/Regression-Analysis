{
 "cells": [
  {
   "cell_type": "markdown",
   "id": "560616e1",
   "metadata": {},
   "source": [
    "**Method 1: Detecting Outliers Using Boxplot**"
   ]
  },
  {
   "cell_type": "code",
   "execution_count": 1,
   "id": "5a6787bf",
   "metadata": {},
   "outputs": [
    {
     "data": {
      "image/png": "[encoded data removed]",
      "text/plain": [
       "<Figure size 432x288 with 1 Axes>"
      ]
     },
     "metadata": {
      "needs_background": "light"
     },
     "output_type": "display_data"
    }
   ],
   "source": [
    "import numpy as np\n",
    "import matplotlib.pyplot as plt\n",
    "\n",
    "sample= [15, 101, 18, 7, 13, 16, 11, 21, 5, 15, 10, 9]\n",
    "plt.boxplot(sample, vert=False)\n",
    "plt.title(\"Detecting outliers using Boxplot\")\n",
    "plt.xlabel('Sample')\n",
    "plt.show()"
   ]
  },
  {
   "cell_type": "markdown",
   "id": "aa3aefd1",
   "metadata": {},
   "source": [
    "**Method 2: Detecting Outliers using Inter Quartile Range**"
   ]
  },
  {
   "cell_type": "code",
   "execution_count": 2,
   "id": "7509940a",
   "metadata": {},
   "outputs": [
    {
     "name": "stdout",
     "output_type": "stream",
     "text": [
      "Outliers from IQR method:  [101]\n"
     ]
    }
   ],
   "source": [
    "import numpy as np\n",
    "import matplotlib.pyplot as plt\n",
    "\n",
    "sample= [15, 101, 18, 7, 13, 16, 11, 21, 5, 15, 10, 9]\n",
    "outliers = []\n",
    "def detect_outliers_iqr(data):\n",
    "    data = sorted(data)\n",
    "    q1 = np.percentile(data, 25)\n",
    "    q3 = np.percentile(data, 75)\n",
    "    # print(q1, q3)\n",
    "    IQR = q3-q1\n",
    "    lwr_bound = q1-(1.5*IQR)\n",
    "    upr_bound = q3+(1.5*IQR)\n",
    "    # print(lwr_bound, upr_bound)\n",
    "    for i in data: \n",
    "        if (i<lwr_bound or i>upr_bound):\n",
    "            outliers.append(i)\n",
    "    return outliers# Driver code\n",
    "sample_outliers = detect_outliers_iqr(sample)\n",
    "print(\"Outliers from IQR method: \", sample_outliers)"
   ]
  },
  {
   "cell_type": "markdown",
   "id": "d6c8f096",
   "metadata": {},
   "source": [
    "**Method 3: Detecting outliers using Z-Score**"
   ]
  },
  {
   "cell_type": "code",
   "execution_count": 3,
   "id": "47de941e",
   "metadata": {},
   "outputs": [
    {
     "name": "stdout",
     "output_type": "stream",
     "text": [
      "Outliers from Z-scores method:  [101]\n"
     ]
    }
   ],
   "source": [
    "outliers = []\n",
    "def detect_outliers_zscore(data):\n",
    "    thres = 3\n",
    "    mean = np.mean(data)\n",
    "    std = np.std(data)\n",
    "    # print(mean, std)\n",
    "    for i in data:\n",
    "        z_score = (i-mean)/std\n",
    "        if (np.abs(z_score) > thres):\n",
    "            outliers.append(i)\n",
    "    return outliers# Driver code\n",
    "sample_outliers = detect_outliers_zscore(sample)\n",
    "print(\"Outliers from Z-scores method: \", sample_outliers)"
   ]
  },
  {
   "cell_type": "markdown",
   "id": "54d31d27",
   "metadata": {},
   "source": [
    "**Treatment of outliers**"
   ]
  },
  {
   "cell_type": "markdown",
   "id": "a2bbced5",
   "metadata": {},
   "source": [
    "**Treatment 1: Trimming/Remove the outliers**"
   ]
  },
  {
   "cell_type": "code",
   "execution_count": 5,
   "id": "e07a30c5",
   "metadata": {},
   "outputs": [
    {
     "name": "stdout",
     "output_type": "stream",
     "text": [
      "[15 18  7 13 16 11 21  5 15 10  9]\n",
      "12 11\n"
     ]
    }
   ],
   "source": [
    "#Trimming for i in sample_outliers:\n",
    "sample= np.array([15, 101, 18, 7, 13, 16, 11, 21, 5, 15, 10, 9])\n",
    "i=[101]     \n",
    "a = np.delete(sample, np.where(sample==i)) \n",
    "print(a) \n",
    "print(len(sample), len(a))"
   ]
  },
  {
   "cell_type": "markdown",
   "id": "f651574d",
   "metadata": {},
   "source": [
    "**Treatment 2: Quantile Based Flooring and Capping**"
   ]
  },
  {
   "cell_type": "code",
   "execution_count": 6,
   "id": "526d3fb2",
   "metadata": {},
   "outputs": [
    {
     "name": "stdout",
     "output_type": "stream",
     "text": [
      "New array: [15.  20.7 18.   7.2 13.  16.  11.  20.7  7.2 15.  10.   9. ]\n"
     ]
    }
   ],
   "source": [
    "#Computing 10th, 90th percentiles and replacing the outliers \n",
    "tenth_percentile = np.percentile(sample, 10) \n",
    "ninetieth_percentile = np.percentile(sample, 90) \n",
    "# print(tenth_percentile, ninetieth_percentile)\n",
    "b = np.where(sample<tenth_percentile, tenth_percentile, sample) \n",
    "b = np.where(b>ninetieth_percentile, ninetieth_percentile, b) \n",
    "# print(\"Sample:\", sample) \n",
    "print(\"New array:\",b)"
   ]
  },
  {
   "cell_type": "markdown",
   "id": "07363aa5",
   "metadata": {},
   "source": [
    "**Treatment 3: Mean/Median Imputation**"
   ]
  },
  {
   "cell_type": "code",
   "execution_count": 7,
   "id": "083004aa",
   "metadata": {},
   "outputs": [
    {
     "name": "stdout",
     "output_type": "stream",
     "text": [
      "Sample:  [ 15 101  18   7  13  16  11  21   5  15  10   9]\n",
      "New array:  [15 14 18  7 13 16 11 21  5 15 10  9]\n"
     ]
    }
   ],
   "source": [
    "median = np.median(sample)# Replace with median for i in sample_outliers:\n",
    "c = np.where(sample==i, 14, sample) \n",
    "print(\"Sample: \", sample)\n",
    "print(\"New array: \",c) # print(x.dtype)"
   ]
  },
  {
   "cell_type": "code",
   "execution_count": 8,
   "id": "c620d16f",
   "metadata": {},
   "outputs": [
    {
     "data": {
      "text/plain": [
       "Text(0.5, 0, 'Sample')"
      ]
     },
     "execution_count": 8,
     "metadata": {},
     "output_type": "execute_result"
    },
    {
     "data": {
      "image/png": "[encoded data removed]",
      "text/plain": [
       "<Figure size 432x288 with 1 Axes>"
      ]
     },
     "metadata": {
      "needs_background": "light"
     },
     "output_type": "display_data"
    }
   ],
   "source": [
    "#Visualizing the Data after applying the treatment of Outlier\n",
    "plt.boxplot(c, vert=False)\n",
    "plt.title(\"Boxplot of the sample after treating the outliers\")\n",
    "plt.xlabel(\"Sample\")"
   ]
  }
 ],
 "metadata": {
  "kernelspec": {
   "display_name": "Python 3 (ipykernel)",
   "language": "python",
   "name": "python3"
  },
  "language_info": {
   "codemirror_mode": {
    "name": "ipython",
    "version": 3
   },
   "file_extension": ".py",
   "mimetype": "text/x-python",
   "name": "python",
   "nbconvert_exporter": "python",
   "pygments_lexer": "ipython3",
   "version": "3.9.7"
  }
 },
 "nbformat": 4,
 "nbformat_minor": 5
}
