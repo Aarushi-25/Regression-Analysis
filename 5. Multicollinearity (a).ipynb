{
 "cells": [
  {
   "cell_type": "code",
   "execution_count": 1,
   "id": "24a3937a",
   "metadata": {},
   "outputs": [
    {
     "name": "stdout",
     "output_type": "stream",
     "text": [
      "   rating  points  assists  rebounds\n",
      "0      90      25        5        11\n",
      "1      85      20        7         8\n",
      "2      82      14        7        10\n",
      "3      88      16        8         6\n",
      "4      94      27        5         6\n",
      "5      90      20        7         9\n",
      "6      76      12        6         6\n",
      "7      75      15        9        10\n",
      "8      87      14        9        10\n",
      "9      86      19        5         7\n"
     ]
    }
   ],
   "source": [
    "import pandas as pd\n",
    "df = pd.DataFrame({'rating': [90, 85, 82, 88, 94, 90, 76, 75, 87, 86],\n",
    "                   'points': [25, 20, 14, 16, 27, 20, 12, 15, 14, 19],\n",
    "                   'assists': [5, 7, 7, 8, 5, 7, 6, 9, 9, 5],\n",
    "                   'rebounds': [11, 8, 10, 6, 6, 9, 6, 10, 10, 7]})\n",
    "print(df)"
   ]
  },
  {
   "cell_type": "code",
   "execution_count": 4,
   "id": "d6fc4234",
   "metadata": {},
   "outputs": [
    {
     "name": "stdout",
     "output_type": "stream",
     "text": [
      "    variable         VIF\n",
      "0  Intercept  101.258171\n",
      "1     points    1.763977\n",
      "2    assists    1.959104\n",
      "3   rebounds    1.175030\n"
     ]
    }
   ],
   "source": [
    "#To calculate the VIF for each predictor variable in the model, we can use the variance_inflation_factor() function from the statsmodels library:\n",
    "from patsy import dmatrices\n",
    "from statsmodels.stats.outliers_influence import variance_inflation_factor\n",
    "\n",
    "#find design matrix for regression model using 'rating' as response variable \n",
    "y, X = dmatrices('rating ~ points+assists+rebounds', data=df, return_type='dataframe')\n",
    "\n",
    "#create DataFrame to hold VIF values\n",
    "vif_df = pd.DataFrame()\n",
    "vif_df['variable'] = X.columns \n",
    "#calculate VIF for each predictor variable \n",
    "vif_df['VIF'] = [variance_inflation_factor(X.values, i) for i in range(X.shape[1])]\n",
    "\n",
    "#view VIF for each predictor variable \n",
    "print(vif_df)"
   ]
  }
 ],
 "metadata": {
  "kernelspec": {
   "display_name": "Python 3 (ipykernel)",
   "language": "python",
   "name": "python3"
  },
  "language_info": {
   "codemirror_mode": {
    "name": "ipython",
    "version": 3
   },
   "file_extension": ".py",
   "mimetype": "text/x-python",
   "name": "python",
   "nbconvert_exporter": "python",
   "pygments_lexer": "ipython3",
   "version": "3.9.7"
  }
 },
 "nbformat": 4,
 "nbformat_minor": 5
}
